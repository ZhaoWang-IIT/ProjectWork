{
 "cells": [
  {
   "cell_type": "code",
   "execution_count": 1,
   "metadata": {
    "collapsed": false
   },
   "outputs": [],
   "source": [
    "import amazonproduct\n",
    "from amazon_scraper import AmazonScraper\n",
    "from amazon.api import AmazonAPI\n",
    "from amazonproduct import API\n",
    "from collections import Counter\n",
    "import ConfigParser\n",
    "from amazon.api import (AmazonAPI,\n",
    "                        CartException,\n",
    "                        CartInfoMismatchException,\n",
    "                        SearchException,\n",
    "                        AsinNotFound)"
   ]
  },
  {
   "cell_type": "code",
   "execution_count": 2,
   "metadata": {
    "collapsed": false,
    "scrolled": true
   },
   "outputs": [
    {
     "name": "stdout",
     "output_type": "stream",
     "text": [
      "Established Amazon connection.\n"
     ]
    }
   ],
   "source": [
    "def get_amazon(config_file):\n",
    "    \"\"\" Read the config_file and construct an instance of TwitterAPI.\n",
    "    Args:\n",
    "      config_file ... A config file in ConfigParser format with Twitter credentials\n",
    "    Returns:\n",
    "      An instance of TwitterAPI.\n",
    "    \"\"\"\n",
    "    config = ConfigParser.ConfigParser()\n",
    "    config.read(config_file)\n",
    "    amazon = AmazonScraper(\n",
    "                   config.get('Credentials', 'access_key'),\n",
    "                   config.get('Credentials', 'secret_key'),\n",
    "                   config.get('Credentials', 'associate_tag'))\n",
    "         \n",
    "    return amazon\n",
    "\n",
    "amazon = get_amazon('amazon.cfg')\n",
    "print('Established Amazon connection.')"
   ]
  },
  {
   "cell_type": "code",
   "execution_count": 8,
   "metadata": {
    "collapsed": false,
    "scrolled": false
   },
   "outputs": [
    {
     "name": "stdout",
     "output_type": "stream",
     "text": [
      "\n",
      "Beautiful bag!\n",
      "\n",
      "Love!\n",
      "\n",
      "Amazing purse. Would purchase again.\n",
      "\n",
      "Absolutely love this purse. It is 100% real and I use it everyday. Shipping was fast and the price was really good too. Will buy again from this seller. &#60;3\n",
      "\n",
      "It's a nice tote but it's a little too large for me. I should have paid more attention to the dimensions of the bag.\n",
      "\n",
      "Bought this for my daughter and she loves it! She said  it is pretty big but still loves it.  It was shipped  and she received it in 2 days!\n",
      "\n",
      "I love this bag. Looks just like the picture.\n",
      "\n",
      "iI really enjoy my Michael Kors bag looking forward to buying another one in the near future. Thank you.\n",
      "\n",
      "Just love it  :-)\n",
      "\n",
      "It's simple! I \u001a\u001a It.....\n",
      "Great shopping, awesome purse.\n",
      "\n",
      "List of bag alternatives\n",
      "[]\n",
      "\n",
      "Beautiful, superb quality made bag for all occasions, love it\n",
      "\n",
      "My SO absolutely loves it. She had been eyeing it for a long time before I purchased it for her birthday and she is completely and utterly satisfied with it. She is obsessed with Michael Kors purses and this specific one is perfect in all ways for her. Months later, it still has held up very well has 0 scuffs or discoloration spots.\n",
      "I'm actually surprised how good the purse looks at this point, because it still looks relatively new and my SO works with autistic children, so this purse has been thrown around more than once by a child. It has fallen off her car onto the parking lot as well and it has rubbed up against our 85lb lab/golden retriever mix on countless occasions. It's truly worth every penny and seems to age exceptionally well.\n",
      "\n",
      "Gave this as a gift for my daugher-in-law.  She loves it!\n",
      "\n",
      "Everything was 100% what i thought it would be point. Blank. Period.\n",
      "\n",
      "This is 100% authentic Michael Kors, I've been using this for over 4 months now and it's still in perfect condition. Love it\n",
      "\n",
      "I LOVE this bag! 100% authentic MK! Comes in all the packaging. Got it in just days and I get many compliments every day!!\n",
      "\n",
      "I gave this to my daughter for her birthday. She loves it. Yes, expensive, but better than any other website or shop. I looked everywhere!!\n",
      "\n",
      "My husband surprised me with this amazing purse... &#34; I love it \u001a&#34;  its  the perfect size to put all my stuff in it.  I \u001a my husband Jstar\n",
      "\n",
      "Amazing !! The product is real genuine and I got it within 3 days!! I love it and Definitely recommended!..\n",
      "\n",
      "This is my dream bag, thanks that I purchase it now.\n",
      "\n",
      "List of bag alternatives\n",
      "[]\n"
     ]
    }
   ],
   "source": [
    "l = ['B00EF8DM3A','B0054LCMHY']\n",
    "for plist in l:\n",
    "    p = amazon.lookup(ItemId=plist)\n",
    "    print \n",
    "    rs = p.reviews()\n",
    "    idlist = rs.ids\n",
    "    for i in idlist:\n",
    "        r = amazon.review(Id=i)\n",
    "        print r.text\n",
    "        print\n",
    "    \n",
    "    print 'List of bag alternatives'\n",
    "    print p.alternatives\n",
    "    for bag in p.alternatives:\n",
    "        bagCom = amazon.lookup(ItemId=bag)\n",
    "        revList = bagCom.reviews()\n",
    "        revIds = revList.ids\n",
    "        for ids in revId:\n",
    "            r = amazon.review(Id=ids)\n",
    "            print r.text\n",
    "            print\n",
    "    "
   ]
  },
  {
   "cell_type": "code",
   "execution_count": null,
   "metadata": {
    "collapsed": true
   },
   "outputs": [],
   "source": []
  }
 ],
 "metadata": {
  "kernelspec": {
   "display_name": "Python 2",
   "language": "python",
   "name": "python2"
  },
  "language_info": {
   "codemirror_mode": {
    "name": "ipython",
    "version": 2
   },
   "file_extension": ".py",
   "mimetype": "text/x-python",
   "name": "python",
   "nbconvert_exporter": "python",
   "pygments_lexer": "ipython2",
   "version": "2.7.10"
  }
 },
 "nbformat": 4,
 "nbformat_minor": 0
}
